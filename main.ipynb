{
 "cells": [
  {
   "cell_type": "code",
   "execution_count": null,
   "metadata": {},
   "outputs": [],
   "source": [
    "import pandas as pd\n",
    "import numpy as np\n",
    "import datetime\n",
    "import phonenumbers\n",
    "import matplotlib.pyplot as plt\n",
    "import matplotlib as mpl\n",
    "\n",
    "mpl.style.use(\"ggplot\")\n",
    "from sqlalchemy import create_engine\n",
    "from nltk.sentiment.vader import SentimentIntensityAnalyzer as SIA"
   ]
  },
  {
   "cell_type": "code",
   "execution_count": null,
   "metadata": {},
   "outputs": [],
   "source": [
    "# Copy to working directory from ~/Library/Messages/chat.db\n",
    "chat_db_location = \"chat.db\"\n",
    "\n",
    "# Copy to working directory from ~/Library/Application Support/AddressBook/Sources\n",
    "address_db_location = \"AddressBook-v22.abcddb\""
   ]
  },
  {
   "cell_type": "markdown",
   "metadata": {},
   "source": [
    "# Data Loading"
   ]
  },
  {
   "cell_type": "code",
   "execution_count": null,
   "metadata": {},
   "outputs": [],
   "source": [
    "engine = create_engine(f\"sqlite:///{chat_db_location}\")\n",
    "conn = engine.connect()\n",
    "result = conn.execute(\n",
    "    'SELECT T1.ROWID, text, handle_id, is_from_me, \\\n",
    "    datetime(date/1000000000 + strftime(\"%s\", \"2001-01-01\") , \"unixepoch\", \"localtime\") as date, \\\n",
    "    T3.chat_identifier, T3.display_name, T4.id \\\n",
    "    FROM message T1 \\\n",
    "    INNER JOIN chat_message_join T2 \\\n",
    "        ON T1.ROWID=T2.message_id \\\n",
    "    INNER JOIN chat T3 \\\n",
    "        ON T3.ROWID=T2.chat_id \\\n",
    "    LEFT JOIN handle T4 \\\n",
    "        ON T1.handle_id=T4.ROWID \\\n",
    "    ORDER BY date'\n",
    ")\n",
    "\n",
    "df_msg = pd.DataFrame(result.fetchall(), columns=[\"id\", \"message\", \"handle_id\", \"is_from_me\", \"time\", \"chat_identifier\", \"chat_name\", \"sender\"])\n",
    "\n",
    "result = conn.execute(\n",
    "    'SELECT T1.ROWID, T2.mime_type \\\n",
    "    FROM message T1 \\\n",
    "    INNER JOIN chat_message_join T3 \\\n",
    "        ON T1.ROWID=T3.message_id \\\n",
    "    INNER JOIN attachment T2 \\\n",
    "    INNER JOIN message_attachment_join T4 \\\n",
    "        ON T2.ROWID=T4.attachment_id \\\n",
    "        WHERE T4.message_id=T1.ROWID')\n",
    "df_att = pd.DataFrame(result.fetchall(), columns=[\"id\", \"attachment\"])\n",
    "df_att\n",
    "\n",
    "result = conn.execute(\n",
    "    'SELECT T1.chat_identifier, T3.id \\\n",
    "    FROM chat T1 \\\n",
    "    INNER JOIN chat_handle_join T2 \\\n",
    "        ON T1.ROWID=T2.chat_id \\\n",
    "    INNER JOIN handle T3 \\\n",
    "        ON T2.handle_id=T3.ROWID'\n",
    ")\n",
    "\n",
    "chat_participants = pd.DataFrame(result.fetchall(), columns=[\"chat_identifier\", \"handle_id\"]).groupby(\"chat_identifier\")[\"handle_id\"].apply(lambda x: x.unique().tolist()).to_dict()\n",
    "\n",
    "df = df_msg.set_index('id').join(df_att.set_index('id'))\n",
    "df['attachment'] = [1 if type(t) is str else 0 for t in df['attachment']]\n",
    "df[\"time\"] = pd.to_datetime(df[\"time\"])\n",
    "df[\"date\"] = df[\"time\"].dt.date\n",
    "df.loc[df[\"is_from_me\"] == 1, \"sender\"] = \"me\"\n",
    "df = df.drop([\"is_from_me\", \"handle_id\"], axis=1)\n",
    "df = df[~df[\"message\"].isnull()]\n",
    "\n",
    "sia = SIA()\n",
    "df[\"polarity\"] = df[\"message\"].apply(lambda m: sia.polarity_scores(m)[\"compound\"])\n",
    "conn.close()"
   ]
  },
  {
   "cell_type": "code",
   "execution_count": null,
   "metadata": {},
   "outputs": [],
   "source": [
    "engine = create_engine(f\"sqlite:///{address_db_location}\")\n",
    "conn = engine.connect()\n",
    "result = conn.execute(\n",
    "    'SELECT ZFULLNUMBER, ZFIRSTNAME, ZLASTNAME \\\n",
    "    FROM ZABCDPHONENUMBER \\\n",
    "    LEFT JOIN ZABCDRECORD \\\n",
    "    ON ZABCDPHONENUMBER.ZOWNER = ZABCDRECORD.Z_PK'\n",
    ")\n",
    "out = result.fetchall()\n",
    "conn.close()\n",
    "addresses = {}\n",
    "for address, first, last in out:\n",
    "    if first is None and last is not None:\n",
    "        name = last\n",
    "    elif first is not None and last is None:\n",
    "        name = first\n",
    "    elif first is None and last is None:\n",
    "        name = address\n",
    "    else:\n",
    "        name = f\"{first} {last}\"\n",
    "    address = phonenumbers.format_number(phonenumbers.parse(address, 'US'), phonenumbers.PhoneNumberFormat.E164)\n",
    "    addresses[address] = name\n",
    "\n",
    "df[\"chat_name\"] = np.where(df[\"chat_name\"] == \"\",\n",
    "                           [\", \".join([addresses[x] if x in addresses else x for x in chat_participants[chatid]]) if chatid in chat_participants else chatid for chatid in df[\"chat_identifier\"]],\n",
    "                           df[\"chat_name\"])\n",
    "\n",
    "valid_number_mask = []\n",
    "for sender in df[\"sender\"]:\n",
    "    try:\n",
    "        phonenumbers.parse(sender)\n",
    "        valid_number_mask.append(True)\n",
    "    except phonenumbers.NumberParseException:\n",
    "        valid_number_mask.append(False)\n",
    "    \n",
    "df[\"sender\"] = np.where(valid_number_mask, [addresses[x] if x in addresses else x for x in df[\"sender\"]], df[\"sender\"])"
   ]
  },
  {
   "cell_type": "code",
   "execution_count": null,
   "metadata": {},
   "outputs": [],
   "source": [
    "df[\"type\"] = np.where(df[\"sender\"].values == \"me\", \"Sent\", \"Received\")\n",
    "df[\"hour\"] = df[\"time\"].dt.hour\n",
    "df[\"weekday\"] = df[\"time\"].dt.weekday"
   ]
  },
  {
   "cell_type": "markdown",
   "metadata": {},
   "source": [
    "---"
   ]
  },
  {
   "cell_type": "markdown",
   "metadata": {},
   "source": [
    "# Basic Stats"
   ]
  },
  {
   "cell_type": "markdown",
   "metadata": {},
   "source": [
    "## Counts"
   ]
  },
  {
   "cell_type": "code",
   "execution_count": null,
   "metadata": {},
   "outputs": [],
   "source": [
    "df_sent_by_me = df[df[\"sender\"] == \"me\"]\n",
    "df_not_sent_by_me = df[df[\"sender\"] != \"me\"]\n",
    "print(f\"{len(df)} messages\")\n",
    "print(f\"{len(df.groupby('chat_identifier').count())} chats\")"
   ]
  },
  {
   "cell_type": "markdown",
   "metadata": {},
   "source": [
    "## Top 5 Most Sent (by Chat)"
   ]
  },
  {
   "cell_type": "code",
   "execution_count": null,
   "metadata": {},
   "outputs": [],
   "source": [
    "df_sent_by_me[\"chat_name\"].value_counts().head()"
   ]
  },
  {
   "cell_type": "markdown",
   "metadata": {},
   "source": [
    "## Top 5 Most Received (by Chat)"
   ]
  },
  {
   "cell_type": "code",
   "execution_count": null,
   "metadata": {},
   "outputs": [],
   "source": [
    "df_not_sent_by_me[\"chat_name\"].value_counts().head()"
   ]
  },
  {
   "cell_type": "markdown",
   "metadata": {},
   "source": [
    "## Distribution of Messages per Chat"
   ]
  },
  {
   "cell_type": "code",
   "execution_count": null,
   "metadata": {},
   "outputs": [],
   "source": [
    "fig, ax = plt.subplots(figsize=(20, 10))\n",
    "df.groupby([\"chat_name\", \"type\"])[\"message\"].count().sort_values(ascending=False).hist(log=True, ax=ax)\n",
    "ax.set_title(\"Message Distribution\")\n",
    "plt.show()"
   ]
  },
  {
   "cell_type": "markdown",
   "metadata": {},
   "source": [
    "# Temporal Stats"
   ]
  },
  {
   "cell_type": "markdown",
   "metadata": {},
   "source": [
    "---"
   ]
  },
  {
   "cell_type": "markdown",
   "metadata": {},
   "source": [
    "## Hourly Messaging Frequency"
   ]
  },
  {
   "cell_type": "code",
   "execution_count": null,
   "metadata": {},
   "outputs": [],
   "source": [
    "fig, ax = plt.subplots(figsize=(20, 10))\n",
    "df.groupby([\"hour\", \"type\"]).count()[\"message\"].unstack(level=0).T.plot.area(ax=ax, alpha=0.5)\n",
    "ax.set_xticks(np.arange(24))\n",
    "ax.set_xticklabels([f\"{x} am\" for x in np.roll(np.arange(1, 13), 1)] + [f\"{x} pm\" for x in np.roll(np.arange(1, 13), 1)])\n",
    "ax.set_title(\"Hourly Messaging Frequency\")\n",
    "ax.set_xlabel(\"Hour\")\n",
    "ax.set_ylabel(\"Number of Messages\")\n",
    "ax.legend()\n",
    "plt.show()"
   ]
  },
  {
   "cell_type": "markdown",
   "metadata": {},
   "source": [
    "## Weekly Messaging Frequency"
   ]
  },
  {
   "cell_type": "code",
   "execution_count": null,
   "metadata": {},
   "outputs": [],
   "source": [
    "df[\"weekday\"] = df[\"time\"].dt.weekday\n",
    "fig, ax = plt.subplots(figsize=(20, 10))\n",
    "df.groupby([\"weekday\", \"type\"]).count()[\"message\"].unstack(level=0).T.plot.area(ax=ax, alpha=0.5)\n",
    "ax.set_xticks(range(7))\n",
    "ax.set_xticklabels([\"Monday\", \"Tuesday\", \"Wednesday\", \"Thursday\", \"Friday\", \"Saturday\", \"Sunday\"])\n",
    "ax.set_title(\"Weekly Messaging Frequncy\")\n",
    "ax.set_xlabel(\"Hour\")\n",
    "ax.set_ylabel(\"Number of Messages\")\n",
    "ax.legend()\n",
    "plt.show()"
   ]
  },
  {
   "cell_type": "markdown",
   "metadata": {},
   "source": [
    "## Weekly Frequency Heatmap"
   ]
  },
  {
   "cell_type": "code",
   "execution_count": null,
   "metadata": {},
   "outputs": [],
   "source": [
    "fig, ax = plt.subplots(figsize=(20, 10))\n",
    "week = df.groupby([\"hour\", \"weekday\"]).count()[\"message\"].unstack(level=0).values\n",
    "im = ax.imshow(week, interpolation='nearest')\n",
    "ax.set_xticks(range(24))\n",
    "ax.set_yticks(range(7))\n",
    "ax.set_xticklabels([f\"{x} am\" for x in np.roll(np.arange(1, 13), 1)] + [f\"{x} pm\" for x in np.roll(np.arange(1, 13), 1)])\n",
    "ax.set_yticklabels([\"Monday\", \"Tuesday\", \"Wednesday\", \"Thursday\", \"Friday\", \"Saturday\", \"Sunday\"])\n",
    "fig.colorbar(im, orientation=\"horizontal\", label=\"Number of Messages\")\n",
    "ax.grid(False)\n",
    "ax.set_title(\"Weekly Message Frequency Heatmap\")\n",
    "ax.set_xlabel(\"Hour\")\n",
    "ax.set_ylabel(\"Day\")\n",
    "plt.show()"
   ]
  },
  {
   "cell_type": "markdown",
   "metadata": {},
   "source": [
    "# Sentiment Analysis"
   ]
  },
  {
   "cell_type": "markdown",
   "metadata": {},
   "source": [
    "---"
   ]
  },
  {
   "cell_type": "markdown",
   "metadata": {},
   "source": [
    "## Top 5 Message Polarity"
   ]
  },
  {
   "cell_type": "code",
   "execution_count": null,
   "metadata": {},
   "outputs": [],
   "source": [
    "pd.set_option('display.max_colwidth', -1)\n",
    "display(df.sort_values(by=\"polarity\", ascending=False)[[\"message\", \"sender\", \"chat_name\", \"polarity\"]].head())\n",
    "pd.reset_option('display.max_colwidth')"
   ]
  },
  {
   "cell_type": "markdown",
   "metadata": {},
   "source": [
    "## Bottom 5 Message Polarity"
   ]
  },
  {
   "cell_type": "code",
   "execution_count": null,
   "metadata": {},
   "outputs": [],
   "source": [
    "pd.set_option('display.max_colwidth', -1)\n",
    "display(df.sort_values(by=\"polarity\", ascending=True)[[\"message\", \"sender\", \"chat_name\", \"polarity\"]].head())\n",
    "pd.reset_option('display.max_colwidth')"
   ]
  },
  {
   "cell_type": "markdown",
   "metadata": {},
   "source": [
    "## Top 5 Chat Polarity"
   ]
  },
  {
   "cell_type": "code",
   "execution_count": null,
   "metadata": {},
   "outputs": [],
   "source": [
    "pd.DataFrame(df.groupby([\"chat_name\"]).mean()[\"polarity\"].sort_values(ascending=False).head())"
   ]
  },
  {
   "cell_type": "markdown",
   "metadata": {},
   "source": [
    "## Bottom 5 Chat Polarity"
   ]
  },
  {
   "cell_type": "code",
   "execution_count": null,
   "metadata": {},
   "outputs": [],
   "source": [
    "pd.DataFrame(df.groupby([\"chat_name\"]).mean()[\"polarity\"].sort_values(ascending=True).head())"
   ]
  },
  {
   "cell_type": "markdown",
   "metadata": {},
   "source": [
    "## Top 5 Sender Polarity"
   ]
  },
  {
   "cell_type": "code",
   "execution_count": null,
   "metadata": {},
   "outputs": [],
   "source": [
    "pd.DataFrame(df.groupby([\"sender\"]).mean()[\"polarity\"].sort_values(ascending=False).head())"
   ]
  },
  {
   "cell_type": "markdown",
   "metadata": {},
   "source": [
    "## Bottom 5 Sender Polarity"
   ]
  },
  {
   "cell_type": "code",
   "execution_count": null,
   "metadata": {},
   "outputs": [],
   "source": [
    "pd.DataFrame(df.groupby([\"sender\"]).mean()[\"polarity\"].sort_values(ascending=True).head())"
   ]
  },
  {
   "cell_type": "markdown",
   "metadata": {},
   "source": [
    "## Weekly Sentiment Heatmap"
   ]
  },
  {
   "cell_type": "code",
   "execution_count": null,
   "metadata": {},
   "outputs": [],
   "source": [
    "df[\"weekday\"] = df[\"time\"].dt.weekday\n",
    "fig, ax = plt.subplots(figsize=(20, 10))\n",
    "week = df.groupby([\"hour\", \"weekday\"]).mean()[\"polarity\"].unstack(level=0).values\n",
    "im = ax.imshow(week, interpolation='nearest')\n",
    "ax.set_xticks(range(24))\n",
    "ax.set_yticks(range(7))\n",
    "ax.set_xticklabels([f\"{x} am\" for x in np.roll(np.arange(1, 13), 1)] + [f\"{x} pm\" for x in np.roll(np.arange(1, 13), 1)])\n",
    "ax.set_yticklabels([\"Monday\", \"Tuesday\", \"Wednesday\", \"Thursday\", \"Friday\", \"Saturday\", \"Sunday\"])\n",
    "fig.colorbar(im, orientation=\"horizontal\", label=\"Average Polarity\")\n",
    "ax.grid(False)\n",
    "ax.set_title(\"Weekly Sentiment Heatmap\")\n",
    "ax.set_xlabel(\"Hour\")\n",
    "ax.set_ylabel(\"Day\")\n",
    "plt.show()"
   ]
  }
 ],
 "metadata": {
  "kernelspec": {
   "display_name": "Python 3",
   "language": "python",
   "name": "python3"
  },
  "language_info": {
   "codemirror_mode": {
    "name": "ipython",
    "version": 3
   },
   "file_extension": ".py",
   "mimetype": "text/x-python",
   "name": "python",
   "nbconvert_exporter": "python",
   "pygments_lexer": "ipython3",
   "version": "3.7.1"
  }
 },
 "nbformat": 4,
 "nbformat_minor": 2
}
